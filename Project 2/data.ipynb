{
 "cells": [
  {
   "cell_type": "code",
   "execution_count": 110,
   "metadata": {},
   "outputs": [],
   "source": [
    "import pandas as pd\n",
    "from sklearn.tree import DecisionTreeClassifier\n",
    "import joblib\n",
    "from sklearn import tree\n",
    "\n",
    "# from sklearn.model_selection import train_test_split\n",
    "# from sklearn.metrics import accuracy_score\n",
    "\n",
    "music_data=pd.read_csv('music.csv')\n",
    "X=music_data.drop(columns=['genre'])   #!loading input and output columns\n",
    "y=music_data['genre']\n",
    "# X_train,X_test,y_train,y_test =  train_test_split(X,y,test_size=0.2)   #!Separating test from training\n",
    "\n",
    "model = DecisionTreeClassifier()\n",
    "model.fit(X,y) #!training\n",
    "\n",
    "tree.export_graphviz(model,out_file='music-recommender.dot',feature_names=['age','gender'],class_names=sorted(y.unique()),label='all',rounded=True,filled=True)\n",
    "\n",
    "#joblib.dump(model,'music-recommender.joblib') #!saving the model\n",
    "\n",
    "#model= joblib.load('music-recommender.joblib') #!loading the model\n",
    "\n",
    "# predictions=model.predict([[21,1]]) #!Making predictions\n",
    "# predictions=model.predict(X_test)\n",
    "\n",
    "# predictions\n",
    "# score=accuracy_score(y_test,predictions) #!accuracy\n",
    "# score*100"
   ]
  }
 ],
 "metadata": {
  "kernelspec": {
   "display_name": "Python 3.9.13 64-bit (microsoft store)",
   "language": "python",
   "name": "python3"
  },
  "language_info": {
   "codemirror_mode": {
    "name": "ipython",
    "version": 3
   },
   "file_extension": ".py",
   "mimetype": "text/x-python",
   "name": "python",
   "nbconvert_exporter": "python",
   "pygments_lexer": "ipython3",
   "version": "3.9.13"
  },
  "orig_nbformat": 4,
  "vscode": {
   "interpreter": {
    "hash": "9f60ff1674d47f6e328e7ff3ca46503d5e4b1d177e24568ec4f17bc6daf59efd"
   }
  }
 },
 "nbformat": 4,
 "nbformat_minor": 2
}
